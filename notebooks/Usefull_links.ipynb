{
 "cells": [
  {
   "cell_type": "markdown",
   "metadata": {},
   "source": [
    "<center> Usefull Links"
   ]
  },
  {
   "cell_type": "markdown",
   "metadata": {},
   "source": [
    "# Data Science interview"
   ]
  },
  {
   "cell_type": "markdown",
   "metadata": {},
   "source": [
    "The aim of this links is to group Data Science questions and answer for Data Science interviews with practical exercices : \n",
    "https://github.com/alexeygrigorev/data-science-interviews"
   ]
  },
  {
   "cell_type": "markdown",
   "metadata": {
    "pycharm": {
     "name": "#%% md\n"
    }
   },
   "source": [
    "# Data Science Usefull Books and documentation"
   ]
  },
  {
   "cell_type": "markdown",
   "metadata": {},
   "source": [
    "This lists Data Science Usefull Books : \n",
    "\n",
    "- Practical Time Series Analyses - Prediction with Statistics & Machine Learning Aileen Nielsen (https://github.com/PracticalTimeSeriesAnalysis/BookRepo)\n",
    "- Advanced Data Science course : https://github.com/jhu-advdatasci/2019/tree/master/lectures"
   ]
  },
  {
   "cell_type": "markdown",
   "metadata": {},
   "source": [
    "# Data Science Data"
   ]
  },
  {
   "cell_type": "markdown",
   "metadata": {},
   "source": [
    "This lists usefull Data sources : \n",
    "\n",
    "- UCI Machine Learning repository : https://archive.ics.uci.edu/ml/index.php\n",
    "- UEA & UCR Time Series Classification Repository : https://timeseriesclassification.com/dataset.php\n"
   ]
  },
  {
   "cell_type": "markdown",
   "metadata": {},
   "source": [
    "# Nice Library"
   ]
  },
  {
   "cell_type": "markdown",
   "metadata": {},
   "source": [
    "Scikit Golden list : \n",
    "\n",
    "https://scikit-learn.org/stable/related_projects.html#related-projects"
   ]
  }
 ],
 "metadata": {
  "kernelspec": {
   "display_name": "Python 3",
   "language": "python",
   "name": "python3"
  },
  "language_info": {
   "codemirror_mode": {
    "name": "ipython",
    "version": 3
   },
   "file_extension": ".py",
   "mimetype": "text/x-python",
   "name": "python",
   "nbconvert_exporter": "python",
   "pygments_lexer": "ipython3",
   "version": "3.8.5"
  },
  "pycharm": {
   "stem_cell": {
    "cell_type": "raw",
    "metadata": {
     "collapsed": false
    },
    "source": []
   }
  },
  "toc-showmarkdowntxt": false
 },
 "nbformat": 4,
 "nbformat_minor": 4
}
