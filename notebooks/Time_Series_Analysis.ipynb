{
 "cells": [
  {
   "cell_type": "markdown",
   "metadata": {},
   "source": [
    "# Data Links"
   ]
  },
  {
   "cell_type": "markdown",
   "metadata": {},
   "source": [
    "This lists usefull Data sources : \n",
    "\n",
    "- UCI Machine Learning repository : https://archive.ics.uci.edu/ml/index.php\n",
    "- UEA & UCR Time Series Classification Repository : https://timeseriesclassification.com/dataset.php"
   ]
  },
  {
   "cell_type": "markdown",
   "metadata": {},
   "source": [
    "# Usefull tips"
   ]
  },
  {
   "cell_type": "markdown",
   "metadata": {},
   "source": [
    "- Downsampling and Upsampling can be usefull to adapt data\n",
    "- Using Interpolation technique carefully\n",
    "- Smoothing can be usefull to use data for prediction (ex: pd.ewm performs exponential weighted smoothing : recent data have greater weight)\n",
    "- Carefull know what the timestamps used mean (upload or data acquisition..) not to add lookahead in data"
   ]
  },
  {
   "cell_type": "markdown",
   "metadata": {},
   "source": [
    "# Exploratory analysis"
   ]
  },
  {
   "cell_type": "markdown",
   "metadata": {},
   "source": [
    "- Use Histogram, plots\n",
    "- Statistical summary tables \n",
    "- Correlation tables \n",
    "- plot with diff to remove trends and time correlations"
   ]
  },
  {
   "cell_type": "code",
   "execution_count": null,
   "metadata": {},
   "outputs": [],
   "source": [
    "import pandas as pd\n",
    "from matplotlib import pyplot\n",
    "from statsmodels.graphics.tsaplots import plot_pacf\n",
    "import statsmodels.api as sm\n",
    "import warnings\n",
    "warnings.filterwarnings('ignore')\n",
    "from statsmodels.tsa.stattools import adfuller\n",
    "import matplotlib.pyplot as plt \n",
    "%pylab inline\n",
    "plt.style.use('dark_background')\n",
    "import plotly.io as pio\n",
    "from ds_toolbox.graphs import plot_evolution, plot_hist\n",
    "pd.options.plotting.backend = \"plotly\"\n",
    "pio.templates.default = 'plotly_dark'\n",
    "# Data Daily total female births in California, 1959\n",
    "df = pd.read_csv('data_general/daily-total-female-births-in-cal.csv', sep=',').iloc[0:365]\n",
    "df.columns = ['date', 'female_births']\n",
    "df.index= pd.to_datetime(df['date'])\n",
    "df = plot_hist(df=df, keys=['female_births'])"
   ]
  },
  {
   "cell_type": "markdown",
   "metadata": {},
   "source": [
    "## Stationarity"
   ]
  },
  {
   "cell_type": "markdown",
   "metadata": {},
   "source": [
    "A time series is stationarity if for any lags the distribution of values is equal.\n",
    "\n",
    "Possible to transform data to make them stationarity (by differenciation, logarithm, squared) : but important to keep in mind the meaning of such transformation about data Informations."
   ]
  },
  {
   "cell_type": "code",
   "execution_count": null,
   "metadata": {
    "jupyter": {
     "source_hidden": true
    }
   },
   "outputs": [],
   "source": [
    "df['moving_mean'] = df.expanding(min_periods=2).mean()\n",
    "df['moving_std'] = df['female_births'].expanding(min_periods=2).std()\n",
    "df['EMA'] = df['female_births'].ewm(span=40,adjust=False).mean()\n",
    "df = plot_evolution(df=df, keys=['female_births', 'moving_mean', 'moving_std', 'EMA'], title='Female Births in California 1959')"
   ]
  },
  {
   "cell_type": "code",
   "execution_count": null,
   "metadata": {},
   "outputs": [],
   "source": [
    "print('Dickey-Fuller criteria: p=', str(sm.tsa.stattools.adfuller(df['female_births'])[1]))"
   ]
  },
  {
   "cell_type": "markdown",
   "metadata": {},
   "source": [
    "## Auto-Correlation"
   ]
  },
  {
   "cell_type": "code",
   "execution_count": null,
   "metadata": {},
   "outputs": [],
   "source": [
    "df['auto_corr'] = [df['female_births'].autocorr(lag=i) for i in range(len(df))]\n",
    "df=plot_evolution(df=df, keys=['auto_corr'], title='Auto correlation functions')"
   ]
  },
  {
   "cell_type": "code",
   "execution_count": null,
   "metadata": {},
   "outputs": [],
   "source": [
    "plt.figure(figsize(30,10))\n",
    "plot = plot_pacf(df['female_births'], lags=50)"
   ]
  },
  {
   "cell_type": "markdown",
   "metadata": {},
   "source": [
    "## Residual Seasonal Trend Decomposition"
   ]
  },
  {
   "cell_type": "code",
   "execution_count": null,
   "metadata": {},
   "outputs": [],
   "source": [
    "plt.figure(figsize(20,10))\n",
    "plot = sm.tsa.seasonal_decompose(df['female_births']).plot()"
   ]
  },
  {
   "cell_type": "code",
   "execution_count": null,
   "metadata": {},
   "outputs": [],
   "source": []
  }
 ],
 "metadata": {
  "kernelspec": {
   "display_name": "Python 3",
   "language": "python",
   "name": "python3"
  },
  "language_info": {
   "codemirror_mode": {
    "name": "ipython",
    "version": 3
   },
   "file_extension": ".py",
   "mimetype": "text/x-python",
   "name": "python",
   "nbconvert_exporter": "python",
   "pygments_lexer": "ipython3",
   "version": "3.8.5"
  }
 },
 "nbformat": 4,
 "nbformat_minor": 4
}
